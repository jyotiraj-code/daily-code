{
 "cells": [
  {
   "cell_type": "code",
   "execution_count": 1,
   "metadata": {},
   "outputs": [
    {
     "ename": "AttributeError",
     "evalue": "'list' object has no attribute 'appened'",
     "output_type": "error",
     "traceback": [
      "\u001b[1;31m---------------------------------------------------------------------------\u001b[0m",
      "\u001b[1;31mAttributeError\u001b[0m                            Traceback (most recent call last)",
      "Cell \u001b[1;32mIn[1], line 8\u001b[0m\n\u001b[0;32m      5\u001b[0m i \u001b[38;5;241m=\u001b[39m \u001b[38;5;241m0\u001b[39m\n\u001b[0;32m      7\u001b[0m \u001b[38;5;28;01mwhile\u001b[39;00m i\u001b[38;5;241m<\u001b[39m\u001b[38;5;241m31\u001b[39m:\n\u001b[1;32m----> 8\u001b[0m     \u001b[43mlst\u001b[49m\u001b[38;5;241;43m.\u001b[39;49m\u001b[43mappened\u001b[49m(randrange(\u001b[38;5;241m2\u001b[39m))\n\u001b[0;32m      9\u001b[0m     i \u001b[38;5;241m=\u001b[39m i \u001b[38;5;241m+\u001b[39m \u001b[38;5;241m1\u001b[39m\n\u001b[0;32m     11\u001b[0m key \u001b[38;5;241m=\u001b[39m \u001b[38;5;28mint\u001b[39m(\u001b[38;5;124m'\u001b[39m\u001b[38;5;124m'\u001b[39m\u001b[38;5;241m.\u001b[39mjoin(\u001b[38;5;28mmap\u001b[39m(\u001b[38;5;28mstr\u001b[39m, lst)), \u001b[38;5;241m2\u001b[39m) \u001b[38;5;66;03m#Here we will be converting binary format to integer\u001b[39;00m\n",
      "\u001b[1;31mAttributeError\u001b[0m: 'list' object has no attribute 'appened'"
     ]
    }
   ],
   "source": [
    "from random import randrange\n",
    "#Generating a key\n",
    "\n",
    "lst = []\n",
    "i = 0\n",
    "\n",
    "while i<31:\n",
    "    lst.append(randrange(2))\n",
    "    i = i + 1\n",
    "\n",
    "key = int(''.join(map(str, lst)), 2) #Here we will be converting binary format to integer\n",
    "\n",
    "m = '00000000001110010100000101001101' #message in binary\n",
    "\n",
    "message  = int(m , 2) #Convert message to integer to apply xor operation\n",
    "\n",
    "#Encryption\n",
    "ciphertext = message^key #encrypt the message using generated random key by applying xor operator\n",
    "\n",
    "print('Message = ', bin(message)[2:].zfill(32))\n",
    "print('key = ', bin(key)[2:].zfill(32))\n",
    "print('Ciphertext = ', bin(ciphertext)[2:].zfill(32))\n",
    "\n",
    "\n",
    "\n",
    "#Balvis can decrypt the ciphertext by applying pre shared key again\n",
    "\n",
    "decryption = ciphertext^key\n",
    "\n",
    "print('Decryted Message = ', bin(decryption)[2:].zfill(32))\n"
   ]
  },
  {
   "cell_type": "code",
   "execution_count": null,
   "metadata": {},
   "outputs": [],
   "source": []
  }
 ],
 "metadata": {
  "kernelspec": {
   "display_name": "Python 3",
   "language": "python",
   "name": "python3"
  },
  "language_info": {
   "codemirror_mode": {
    "name": "ipython",
    "version": 3
   },
   "file_extension": ".py",
   "mimetype": "text/x-python",
   "name": "python",
   "nbconvert_exporter": "python",
   "pygments_lexer": "ipython3",
   "version": "3.11.1"
  }
 },
 "nbformat": 4,
 "nbformat_minor": 2
}
